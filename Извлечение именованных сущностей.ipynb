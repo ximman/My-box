{
  "cells": [
    {
      "cell_type": "markdown",
      "metadata": {
        "id": "view-in-github",
        "colab_type": "text"
      },
      "source": [
        "<a href=\"https://colab.research.google.com/github/ximman/My-box/blob/main/%D0%98%D0%B7%D0%B2%D0%BB%D0%B5%D1%87%D0%B5%D0%BD%D0%B8%D0%B5%20%D0%B8%D0%BC%D0%B5%D0%BD%D0%BE%D0%B2%D0%B0%D0%BD%D0%BD%D1%8B%D1%85%20%D1%81%D1%83%D1%89%D0%BD%D0%BE%D1%81%D1%82%D0%B5%D0%B9.ipynb\" target=\"_parent\"><img src=\"https://colab.research.google.com/assets/colab-badge.svg\" alt=\"Open In Colab\"/></a>"
      ]
    },
    {
      "cell_type": "code",
      "execution_count": null,
      "metadata": {
        "id": "21xyRLr7uwrj"
      },
      "outputs": [],
      "source": [
        "pip install natasha #загружаем модель Наташа для работы с русскоязычными текстами"
      ]
    },
    {
      "cell_type": "code",
      "execution_count": null,
      "metadata": {
        "id": "dhlmfDOq6jfZ"
      },
      "outputs": [],
      "source": [
        "import requests #для запросов на сайты (подгрузка приветствий, прощаний, имён)\n",
        "import pandas as pd #работа с таблицами\n",
        "import re #регулярные выражения для извлечения нужных отрезков текстов\n",
        "from natasha import (     \n",
        "    Segmenter,\n",
        "    MorphVocab,  \n",
        "    PER,\n",
        "    NamesExtractor, #модули Наташи, которые нам пригодятся (морфологический анализ, извлечение имён, \n",
        "    NewsNERTagger,  #эмбеддинга и разметка по новостям, анализ синтаксиса)\n",
        "    NewsEmbedding,\n",
        "    NewsSyntaxParser,\n",
        "    Doc\n",
        ")\n",
        "emb = NewsEmbedding()\n",
        "segmenter = Segmenter()\n",
        "morph_vocab = MorphVocab()\n",
        "ner_tagger = NewsNERTagger(emb)\n",
        "names_extractor = NamesExtractor(morph_vocab) #создаём методы на основе подключенных модулей\n",
        "syntax_parser = NewsSyntaxParser(emb)\n",
        "\n",
        "from google.colab import drive\n",
        "drive.mount('/content/drive') #подгружаем исходные данные с диска"
      ]
    },
    {
      "cell_type": "markdown",
      "metadata": {
        "id": "_C3Gz36hMa0U"
      },
      "source": [
        "Создаём список прощаний"
      ]
    },
    {
      "cell_type": "code",
      "execution_count": null,
      "metadata": {
        "id": "9uOyCJkB6qg5"
      },
      "outputs": [],
      "source": [
        "word_for_url = requests.utils.quote('до свидания') #проанализировав прощания, у «до свидания» самая адекватная выборка синонимов; забираем их в список \n",
        "url = 'http://www.synonymizer.ru/index.php?sword=' + word_for_url #формируем URL адрес                                                        прощаний      \n",
        "headers = {'User-Agent': 'Mozilla/5.0 (Windows NT 10.0; Win64; x64) AppleWebKit/537.36 (KHTML, like Gecko) Chrome/104.0.0.0 Safari/537.36'} #беру из \n",
        "r = requests.get(url, headers = headers) #формируем запрос                                                                   инструмента разработчика \n",
        "r = r.text.splitlines() #делим ответ с сайта на строки для упрощения обработки                                                               браузера\n",
        "list_1 = [] #создаём список, в который будем записывать нужные строки\n",
        "for i in range(len(r)):\n",
        "  if 'База синонимов' in r[i]: #по структуре вернувшейся страницы извлекаем синонимы с трёх баз синонимов\n",
        "    while r[i] != '</div>': #этими символами заканчивается блок с синонимами с трёх баз\n",
        "      list_1.append(r[i+1])\n",
        "      i += 1\n",
        "s = [] #создаём список, в который будем складывать индексы пустых элементов списка синонимов, чтобы потом удалить их\n",
        "for l in range(len(list_1)):\n",
        "  list_1[l] = list_1[l].replace('<p>', '') #\n",
        "  list_1[l] = list_1[l].replace('</p>', '') #чистим список прощаний от ненужных нам символов\n",
        "  list_1[l] = list_1[l].replace('</div>', '') #\n",
        "  if list_1[l] == '': #определяем пустой элемент\n",
        "    s.append(l) #записываем в расстрельный список его порядковый номер\n",
        "for j in reversed(s): #считываем с обратной стороны, чтобы удалённые элементы не сдвигали нумерацию непроанализированных элементов\n",
        "  list_1.pop(j) #выкидываем пустой элемент, который может появиться, если одна из баз синонимов пустая\n",
        "string = '' #создаём строку, в которую будем объединять список синонимов, элементы которого на данный момент склеенные\n",
        "for k in range(len(list_1)):\n",
        "  if k > 0:\n",
        "    string += ', '+ list_1[k] #преобразуем список в строку\n",
        "  else: string += list_1[k]\n",
        "list_2 = string.split(', ') #разделяем строку по запятой в список синонимов\n",
        "for i in reversed(range(len(list_2))): #проверяем строку на наличие скобок с конца, чтобы не нарушать нумерацию непроверенных элементов\n",
        "  if '(' in list_2[i] or ')' in list_2[i]: #разобраемся со скобками, например, в списке есть элемент «здравствуй(те)», который никогда не \n",
        "    list_2.pop(i) #                                                                                                 встретится в диалоге\n",
        "list_bye = list(set(list_2)) #убираем повторяющиеся синонимы в списке"
      ]
    },
    {
      "cell_type": "markdown",
      "metadata": {
        "id": "lI8HeWeBdCy0"
      },
      "source": [
        "Ручной ввод прощания в список прощаний"
      ]
    },
    {
      "cell_type": "code",
      "execution_count": null,
      "metadata": {
        "id": "kiBVdXC7dc6Y"
      },
      "outputs": [],
      "source": [
        "flag_repeat = False #метка, показывающая, что добавляемое прощание уже есть в списке\n",
        "add_bye = input('Введите прощание, которое нужно добавить в список: ').lower() #вводим прощание и преобразуем в строчные буквы, потому что весь \n",
        "for i in range(len(list_bye)): #проводим перебор по всем прощаниям                                                  список прощаний из строчных\n",
        "  if add_bye == list_bye[i]: #при условии совпадения добавляемого прощания с элементом списка\n",
        "    print('Прощание \"', add_bye, '\" уже есть в списке прощаний', sep = '')\n",
        "    flag_repeat = True #если совпадение, то устанавливаем флаг\n",
        "    break #прерываем цикл сравнения\n",
        "if flag_repeat == False: #если во всём списке нет совпадений, то выполняем условие\n",
        "  list_bye.append(add_bye)\n",
        "  print('Прощание \"', add_bye, '\" добавлено в список прощаний', sep = '')"
      ]
    },
    {
      "cell_type": "markdown",
      "metadata": {
        "id": "LJHy6LqzgPxa"
      },
      "source": [
        "Ручное удаление прощания из списка прощаний"
      ]
    },
    {
      "cell_type": "code",
      "execution_count": null,
      "metadata": {
        "id": "2QX-zGj4gTWF"
      },
      "outputs": [],
      "source": [
        "flag_repeat = False #аналогично предыдущему блоку метка на повтор\n",
        "del_bye = input('Введите прощание, которое нужно удалить из списка: ').lower() #вводим прощание, которое, по нашему мнению, лишнее в списке\n",
        "for i in range(len(list_bye)): #перебираем весь список прощаний\n",
        "  if del_bye == list_bye[i]: #при совпадении вводимого прощания с элементом списка\n",
        "    flag_repeat = True #при совпадении меням метку\n",
        "    list_bye.pop(i) #удаляем совпавший элемент списка\n",
        "    print('Прощание \"', del_bye, '\" удалено из списка прощаний', sep = '')\n",
        "    break #выходим из цикла перебора\n",
        "if flag_repeat == False: #если метка не изменилась, значит совпадений не было\n",
        "  print('Прощание \"', del_bye, '\" не найдено в списке прощаний', sep = '')"
      ]
    },
    {
      "cell_type": "markdown",
      "metadata": {
        "id": "wUPlLLnMMe9W"
      },
      "source": [
        "Создаём список приветствий"
      ]
    },
    {
      "cell_type": "code",
      "execution_count": null,
      "metadata": {
        "id": "CdFSN0xLlnD_"
      },
      "outputs": [],
      "source": [
        "word_for_url = requests.utils.quote('доброе утро') #по аналогии с прощанием кодируем самое подходящее по синонимам приветствие для URL запроса\n",
        "url = 'http://www.synonymizer.ru/index.php?sword=' + word_for_url #формируем URL адрес\n",
        "headers = {'User-Agent': 'Mozilla/5.0 (Windows NT 10.0; Win64; x64) AppleWebKit/537.36 (KHTML, like Gecko) Chrome/104.0.0.0 Safari/537.36'} #беру \n",
        "r = requests.get(url, headers = headers) #записываем в переменную ответ на запрос                           из инструмента разработчика браузера\n",
        "r = r.text.splitlines() #разбиваем полученную массу текста на строки\n",
        "list_1 = []\n",
        "for i in range(len(r)):\n",
        "  if 'База синонимов' in r[i]: #снова по ключевым словам определяем начало базы синонимов\n",
        "    while r[i] != '</div>':\n",
        "      list_1.append(r[i+1])\n",
        "      i += 1\n",
        "s = []\n",
        "for l in range(len(list_1)):\n",
        "  list_1[l] = list_1[l].replace('<p>', '')\n",
        "  list_1[l] = list_1[l].replace('</p>', '')\n",
        "  list_1[l] = list_1[l].replace('</div>', '') #чистим полученные синонимы от посторонних символов\n",
        "  if list_1[l] == '': \n",
        "    s.append(l)\n",
        "for j in reversed(s):\n",
        "  list_1.pop(j)\n",
        "string = ''\n",
        "for k in range(len(list_1)):\n",
        "  if k > 0:\n",
        "    string += ', '+ list_1[k]\n",
        "  else: string += list_1[k]\n",
        "list_2 = string.split(', ')\n",
        "for i in reversed(range(len(list_2))):\n",
        "  if '(' in list_2[i] or ')' in list_2[i]: #все шаги по подобию создания списка прощаний\n",
        "    list_2.pop(i)\n",
        "list_hello = list(set(list_2))"
      ]
    },
    {
      "cell_type": "markdown",
      "metadata": {
        "id": "IUKh2RhkmK0r"
      },
      "source": [
        "Ручное добавление приветствия в список приветствий"
      ]
    },
    {
      "cell_type": "code",
      "execution_count": null,
      "metadata": {
        "id": "Em2xEzwomRhn"
      },
      "outputs": [],
      "source": [
        "flag_repeat = False\n",
        "add_hello = input('Введите приветствие, которое нужно добавить в список: ').lower()\n",
        "for i in range(len(list_hello)):\n",
        "  if add_hello == list_hello[i]:\n",
        "    print('Приветствие \"', add_hello, '\" уже есть в списке приветствий', sep = '') #все шаги схожи со списком прощаний\n",
        "    flag_repeat = True\n",
        "    break\n",
        "if flag_repeat == False:\n",
        "  list_hello.append(add_hello)\n",
        "  print('Приветствие \"', add_hello, '\" добавлено в список приветствий', sep = '')"
      ]
    },
    {
      "cell_type": "markdown",
      "metadata": {
        "id": "rb0g0g2XmsPm"
      },
      "source": [
        "Ручное удаление приветствия из списка приветствий"
      ]
    },
    {
      "cell_type": "code",
      "execution_count": null,
      "metadata": {
        "id": "5cyO9YvimxgQ"
      },
      "outputs": [],
      "source": [
        "flag_repeat = False\n",
        "del_hello = input('Введите приветствие, которое нужно удалить из списка: ').lower()\n",
        "for i in range(len(list_hello)):\n",
        "  if del_hello == list_hello[i]:\n",
        "    flag_repeat = True\n",
        "    list_hello.pop(i)\n",
        "    print('Приветствие \"', del_hello, '\" удалено из списка приветствий', sep = '') #все шаги схожи со списком прощаний\n",
        "    break\n",
        "if flag_repeat == False:\n",
        "  print('Приветствие \"', del_hello, '\" не найдено в списке приветствий', sep = '')"
      ]
    },
    {
      "cell_type": "markdown",
      "metadata": {
        "id": "bpcRy8VYMiZU"
      },
      "source": [
        "Создаём словарь имён"
      ]
    },
    {
      "cell_type": "code",
      "execution_count": null,
      "metadata": {
        "id": "UcNgnfL3U340"
      },
      "outputs": [],
      "source": [
        "list_names = []\n",
        "headers_names = {'user-agent': 'Mozilla/5.0 (Windows NT 10.0; Win64; x64) AppleWebKit/537.36 (KHTML, like Gecko) Chrome/104.0.0.0 Safari/537.36'}\n",
        "for letter in ('абвгдежзиклмнопрстуфхцчшэюя'): #перебираю буквы, чтобы перейти на страницу с именами на них\n",
        "  letter_for_url = requests.utils.quote(letter) #преобразую букву для URL запроса\n",
        "  url_names = 'https://lexicography.online/onomastics/superanskaya/' + letter_for_url #добавляю зашифрованную букву к адресу\n",
        "  r = requests.get(url_names, headers = headers_names) #записываю в перемненную ответ на запрос\n",
        "  list_names += (re.findall('[(А-ЯЁа-яё)]+', r.text.splitlines()[25])) #в 25 строке сожержатся имена, но вперемешку со служебными символами, \n",
        "  #                                                                                       которые отбрасываю с помощью регулярных выражений"
      ]
    },
    {
      "cell_type": "markdown",
      "metadata": {
        "id": "1TNsaPQqOJ8T"
      },
      "source": [
        "Ручное добавление имени в список имён"
      ]
    },
    {
      "cell_type": "code",
      "execution_count": null,
      "metadata": {
        "id": "p7vEi1kZOM0-"
      },
      "outputs": [],
      "source": [
        "flag_repeat = False\n",
        "add_name = input('Введите имя, которое нужно добавить в список: ').title() #все шаги аналогичны изменению списка прощаний\n",
        "for i in range(len(list_names)):\n",
        "  if add_name == list_names[i]:\n",
        "    print('Имя \"', add_name, '\" уже есть в списке имён', sep = '')\n",
        "    flag_repeat = True\n",
        "    break\n",
        "if flag_repeat == False:\n",
        "  list_names.append(add_name)\n",
        "  print('Имя \"', add_name, '\" добавлено в список имён', sep = '')"
      ]
    },
    {
      "cell_type": "markdown",
      "metadata": {
        "id": "ULZU9_rSPmM0"
      },
      "source": [
        "Ручное удаление имени из списка имён"
      ]
    },
    {
      "cell_type": "code",
      "execution_count": null,
      "metadata": {
        "id": "qIHPsPHVPqen"
      },
      "outputs": [],
      "source": [
        "flag_repeat = False\n",
        "del_name = input('Введите имя, которое нужно удалить из имён: ').lower() #все шаги аналогичны изменению списка прощаний\n",
        "for i in range(len(list_names)):\n",
        "  if del_name == list_names[i]:\n",
        "    flag_repeat = True\n",
        "    list_names.pop(i)\n",
        "    print('Имя \"', del_name, '\" удалено из списка имён', sep = '')\n",
        "    break\n",
        "if flag_repeat == False:\n",
        "  print('Имя \"', del_name, '\" не найдено в списке имён', sep = '')"
      ]
    },
    {
      "cell_type": "markdown",
      "metadata": {
        "id": "RBDrq21KM6z8"
      },
      "source": [
        "Загружаем таблицу с диска в переменную"
      ]
    },
    {
      "cell_type": "code",
      "execution_count": null,
      "metadata": {
        "id": "Ka3rnyNhIwQ8"
      },
      "outputs": [],
      "source": [
        "data_original = pd.read_csv('/content/drive/My Drive/Colab Notebooks/test_data.csv') #создаём датафрейм из csv файла на диске\n",
        "data = data_original.copy() #создаю копию, чтобы не изменить оригинальную таблицу"
      ]
    },
    {
      "cell_type": "markdown",
      "metadata": {
        "id": "vMaeFOZxMUO1"
      },
      "source": [
        "Ищем фразы, в которых было приветствие"
      ]
    },
    {
      "cell_type": "code",
      "execution_count": null,
      "metadata": {
        "id": "Gp8v7CtcI2Lk"
      },
      "outputs": [],
      "source": [
        "data['status'] = '' #создаём столбец для наших пометок\n",
        "num_lines = 5 #количество строк с начала и конца диалога, в которых будем искать нужные нам сущности (дальше 5 строк реплик не встречались)\n",
        "for dlg_id in range(data['dlg_id'].max() + 1): #перебираем номера диалогов (максимальное значение +1 так как range начинает с 0)\n",
        "  for line_n in range(num_lines):\n",
        "    for hello in list_hello:\n",
        "      buffer = data[(data['dlg_id'] == dlg_id) & (data['role'] == 'client')]['text'].iloc[line_n].lower() #ищем в пределах одного диалога и роли   \n",
        "      if hello in buffer: #при совпадении приветствия с элементом реплики                                 #клиента (ошибка расшифровывающей системы)\n",
        "        data.loc[(data['text'] == buffer.capitalize()) & (data['dlg_id'] == dlg_id),'status'] = 'hello' #записываем в наш столбец метку для реплики \n",
        "        break #если нашли в реплике приветствие, то переходим к следующей реплике                                                    с приветствием"
      ]
    },
    {
      "cell_type": "markdown",
      "metadata": {
        "id": "djkERXdhPlkD"
      },
      "source": [
        "Ищем фразы, в которых было прощание"
      ]
    },
    {
      "cell_type": "code",
      "execution_count": null,
      "metadata": {
        "id": "5NRIcATkO8Uc"
      },
      "outputs": [],
      "source": [
        "for dlg_id in range(data['dlg_id'].max() + 1):\n",
        "  for line_n in range(num_lines):\n",
        "    for bye in list_bye:\n",
        "      buffer = data[(data['dlg_id'] == dlg_id) & (data['role'] == 'client')]['text'].iloc[-line_n].lower() #всё по аналогии с предыдущим блоком\n",
        "      if bye in buffer:\n",
        "        data.loc[(data['text'] == buffer.capitalize()) & (data['dlg_id'] == dlg_id),'status'] = 'bye'\n",
        "        break"
      ]
    },
    {
      "cell_type": "markdown",
      "metadata": {
        "id": "uNM3qWIYMzW2"
      },
      "source": [
        "Ищем имена во фразах и устанавливаем заглавную букву для повышения узнаваемости Natasha (предустановленные алгоритмы не работали со строчными буквами). После этого ищем выделенные заглавной буквой имена с помощью Natasha"
      ]
    },
    {
      "cell_type": "code",
      "execution_count": null,
      "metadata": {
        "id": "B8p_v9ejc0N5"
      },
      "outputs": [],
      "source": [
        "'''Строчные буквы вызвали некоторые проблемы с распознаванием, почему и проишлось делать большую надстройку в виде списка имён, например. Методы title(), \n",
        "capitalize() и upper() иногда улучшали распознаваемость, но результат был неудовлетворительный. Методом изысканий нашлось решение, но с перебором имён \n",
        "занимающее приличное время. Можно было бы запрашивать имя менеджера вручную, но такое решение пришлось не по вкусу. Имеем то, что имеем на данный момент. \n",
        "В будущем решу лучше'''\n",
        "for dlg_id in range(data['dlg_id'].max() + 1): #проходимся по номерам диалгов\n",
        "  for line_n in range(num_lines): #берём нужное нам количество строк\n",
        "    for name in list_names: #перебираем  имена из списка имён\n",
        "      name = name.lower() #приводим имя к строчным буквам, так как в списке с заглавной, а в репликах всё строчными\n",
        "      buffer = data[(data['dlg_id'] == dlg_id) & (data['role'] == 'client')]['text'].iloc[line_n].lower().split(' ') #берём нужную нам реплику и \n",
        "      for count in range(len(buffer)): #перебираем элементы созданного списка                                               разделяем по пробелу\n",
        "        if buffer[count] == name: #при нахождении имени в списке\n",
        "          if 'зовут' in ' '.join(buffer) or 'это' in ' '.join(buffer): #проверяем на признаки того, что названное имя — имя менеджера, а не, например, \n",
        "            buffer[count] = name.capitalize() #пишем имя в реплику с заглавной буквы                                                        обращение\n",
        "            doc = Doc(' '.join(buffer)) #создаём файл для обработки Natasha\n",
        "            doc.segment(segmenter) #разделяем строку\n",
        "            doc.tag_ner(ner_tagger) #пытаемся разметить на сущности\n",
        "            for span in doc.spans:\n",
        "                span.normalize(morph_vocab) #нормализуем элементы\n",
        "            for span in doc.spans:\n",
        "              if span.type == 'PER': #берём элементы, которые были распознаны как имя\n",
        "                  span.extract_fact(names_extractor) #извлекаем имя\n",
        "                  data.loc[(data['text'] == ' '.join(buffer).lower().capitalize()) & \n",
        "                           (data['dlg_id'] == dlg_id),'status'] = 'name: ' + name.title() + ' '\n",
        "                  #записываем для строки, где нашлось представление менеджером себя, в столбец status метки и имени с заглавной буквы, добавив пробел \n",
        "                  #                                                                                                  для возможного названия компании"
      ]
    },
    {
      "cell_type": "markdown",
      "metadata": {
        "id": "MvroLcI5Sgqh"
      },
      "source": [
        "Подготавливаем фразу и анализируем её на предмет названия организации с помощью всё той же Natasha"
      ]
    },
    {
      "cell_type": "code",
      "execution_count": null,
      "metadata": {
        "id": "-VPe_djGDs04"
      },
      "outputs": [],
      "source": [
        "list_rel = ['amod', 'nmod', 'nsubj', 'nsubjpass', 'appos'] #серия экспериментов показала, что из этих частей речи чаще всего состоят названия \n",
        "for dlg_id in range(data['dlg_id'].max() + 1): #уже знакомый нам перебор по номерам диалогов                                       организаций\n",
        "  for line_n in range(num_lines): #и количеству строк с начала разговора\n",
        "    text = data[(data['dlg_id'] == dlg_id) & (data['role'] == 'client')]['text'].iloc[line_n] #записываем реплики менеджера в переменную\n",
        "    list_org = []\n",
        "    doc1 = Doc(text) #реплику преобразуем в удобный для Natasha вид\n",
        "    doc1.segment(segmenter) #разделяем реплику\n",
        "    doc1.parse_syntax(syntax_parser) #проводим синтакический анализ (нас интересуют части речи, но взаимосвввязи слов тоже интересно рассмотреть)\n",
        "    for i in range(len(doc1.tokens)):\n",
        "      if 'компани' in doc1.tokens[i].text.lower(): #начиная со слова «компания» в разных склонениях начинаем записывать название организации\n",
        "        for j in range(i + 1, len(doc1.tokens)):\n",
        "          if 'называет' in doc1.tokens[j].text or 'именует' in doc1.tokens[j].text: #после слова «компания» может быть вставлено «называется», учтём \n",
        "            continue #переходим на следующий виток цикла, чтобы не записать лишнее слово в название                                   и такой вариант\n",
        "          if doc1.tokens[j].rel in list_rel: #пока слова входят в список допустимых частей речи, мы записываем их в название\n",
        "            list_org.append(doc1.tokens[j].text)\n",
        "          else: \n",
        "            data.loc[data['text'] == text,'status'] += ('org: ' + ' '.join(list_org).title()) \n",
        "            break #если слово не той части речи, то записываем в столбец ststus метку и название компании, завершаем цикл проверки на части речи\n",
        "        break "
      ]
    },
    {
      "cell_type": "markdown",
      "metadata": {
        "id": "Mr9NhCgOJjgq"
      },
      "source": [
        "Выводим удобно читаемые данные по результатам анализа расшифровок телефонных разговоров"
      ]
    },
    {
      "cell_type": "code",
      "execution_count": null,
      "metadata": {
        "colab": {
          "base_uri": "https://localhost:8080/"
        },
        "id": "g68GY9-CKX8y",
        "outputId": "cafe2c29-243a-4993-c27f-3d7c913dd46b"
      },
      "outputs": [
        {
          "output_type": "stream",
          "name": "stdout",
          "text": [
            "\n",
            "Менеджер диалога № 0 Ангелина.\n",
            "\n",
            "Представился(-лась) в репллике: Меня зовут ангелина компания диджитал бизнес звоним вам по поводу продления лицензии а мы с серым у вас скоро срок заканчивается\n",
            "\n",
            "Поздоровался(-лась) в реплике:\n",
            "Алло здравствуйте\n",
            "\n",
            "Попрощался(-лась) в реплике:\n",
            "Всего хорошего до свидания\n",
            "\n",
            "Требование поздороваться и попрощаться ВЫПОЛНЕНО\n",
            "\n",
            "Представил(-а) компанию как \"Диджитал Бизнес\".\n",
            "__________________________________\n",
            "\n",
            "Менеджер диалога № 1 Ангелина.\n",
            "\n",
            "Представился(-лась) в репллике: Меня зовут ангелина компания диджитал бизнес звоню вам по поводу продления а мы сели обратила внимание что у вас срок заканчивается\n",
            "\n",
            "Поздоровался(-лась) в реплике:\n",
            "Алло здравствуйте\n",
            "\n",
            "Попрощался(-лась) в реплике:\n",
            "Угу да вижу я эту почту хорошо тогда исправлю на эту будем ждать ответа всего хорошего\n",
            "До свидания\n",
            "\n",
            "Требование поздороваться и попрощаться ВЫПОЛНЕНО\n",
            "\n",
            "Представил(-а) компанию как \"Диджитал Бизнес\".\n",
            "__________________________________\n",
            "\n",
            "Менеджер диалога № 2 Ангелина.\n",
            "\n",
            "Представился(-лась) в репллике: Меня зовут ангелина компания диджитал бизнес звоню вам по поводу продления лицензии а мастера мы с вами сотрудничали по видео там\n",
            "\n",
            "Поздоровался(-лась) в реплике:\n",
            "Алло здравствуйте\n",
            "\n",
            "Требование поздороваться и попрощаться НЕ ВЫПОЛНЕНО: менеджер не попрощался(-лась)\n",
            "\n",
            "Представил(-а) компанию как \"Диджитал Бизнес\".\n",
            "__________________________________\n",
            "\n",
            "Менеджер диалога № 3 Максим.\n",
            "\n",
            "Представился(-лась) в репллике: Добрый меня максим зовут компания китобизнес удобно говорить\n",
            "\n",
            "Поздоровался(-лась) в реплике:\n",
            "Алло дмитрий добрый день\n",
            "\n",
            "Попрощался(-лась) в реплике:\n",
            "Угу все хорошо да понедельника тогда всего доброго\n",
            "\n",
            "Требование поздороваться и попрощаться ВЫПОЛНЕНО\n",
            "\n",
            "Представил(-а) компанию как \"Китобизнес\".\n",
            "__________________________________\n",
            "\n",
            "Менеджер диалога № 4 не представился(-лась).\n",
            "\n",
            "Попрощался(-лась) в реплике:\n",
            "Во вторник все ну с вами да тогда до вторника до свидания\n",
            "\n",
            "Требование поздороваться и попрощаться НЕ ВЫПОЛНЕНО: менеджер не поздоровался(-лась)\n",
            "\n",
            "Не представил(-а) компанию\n",
            "__________________________________\n",
            "\n",
            "Менеджер диалога № 5 Анастасия.\n",
            "\n",
            "Представился(-лась) в репллике: Да это анастасия\n",
            "\n",
            "Попрощался(-лась) в реплике:\n",
            "Ну до свидания хорошего вечера\n",
            "\n",
            "Требование поздороваться и попрощаться НЕ ВЫПОЛНЕНО: менеджер не поздоровался(-лась)\n",
            "\n",
            "Не представил(-а) компанию\n",
            "__________________________________\n"
          ]
        }
      ],
      "source": [
        "for dlg_id in range(data['dlg_id'].max() + 1):\n",
        "  data_1 = data[(data['dlg_id'] == dlg_id) & (data['status'] != '')] #отсеиваем пустые ячейки столбца status для нужного диалога, чтобы не тратить \n",
        "  for i in range(len(data_1.index)): #                                                                                                на них время\n",
        "    if 'name' in data_1.iloc[i, 4]: #проверяем на наличие метки имени в столбце status\n",
        "      print('\\nМенеджер диалога № ', dlg_id, ' ', data_1.iloc[i, 4].split(' ')[1], '.', sep = '') #делим всю запись по пробелу и берём 1 элемент, \n",
        "      print('\\nПредставился(-лась) в репллике: ', data_1.iloc[i, 3], sep = '') #                                       на котором всегда будет имя\n",
        "      break\n",
        "    elif i == len(data_1.index) - 1: \n",
        "      print('\\nМенеджер диалога № ', dlg_id, ' не представился(-лась).', sep = '')\n",
        "  \n",
        "  flag_hello = False #метка на наличие приветствия\n",
        "  flag_bye = False #метка на наличие прощания\n",
        "  for j in range(len(data_1.index)): \n",
        "    if 'hello' in data_1.iloc[j, 4]: #проверяем на наличие метки приветствия в столбце status\n",
        "      if flag_hello == False:\n",
        "        print('\\nПоздоровался(-лась) в реплике:')\n",
        "      print(data_1.iloc[j, 3]) #выводим реплику нужной строки таблицы\n",
        "      flag_hello = True #устанавливаем метку наличия приветствия\n",
        "    if 'bye' in data_1.iloc[j, 4]: #проверяем на наличие метки прощания в столбце status\n",
        "      if flag_bye == False:\n",
        "        print('\\nПопрощался(-лась) в реплике:')\n",
        "      print(data_1.iloc[j, 3]) #выводим реплику нужной строки таблицы\n",
        "      flag_bye = True #устанавливаем метку наличия прощания\n",
        "    if flag_hello == True and flag_bye == True and j == len(data_1.index) - 1: #условие с j нужно, чтобы убедиться в том, что проверены все строки\n",
        "      print('\\nТребование поздороваться и попрощаться ВЫПОЛНЕНО', sep = '')\n",
        "    elif flag_hello == True and flag_bye == False and j == len(data_1.index) - 1:\n",
        "      print('\\nТребование поздороваться и попрощаться НЕ ВЫПОЛНЕНО: менеджер не попрощался(-лась)', sep = '')\n",
        "    elif flag_hello == False and flag_bye == True and j == len(data_1.index) - 1:\n",
        "      print('\\nТребование поздороваться и попрощаться НЕ ВЫПОЛНЕНО: менеджер не поздоровался(-лась)', sep = '')\n",
        "    elif flag_hello == False and flag_bye == False and j == len(data_1.index) - 1:\n",
        "      print('\\nТребование поздороваться и попрощаться НЕ ВЫПОЛНЕНО: менеджер не поздоровался и не попрощался(-лась)', sep = '')\n",
        "  \n",
        "  for n in range(len(data_1.index)):\n",
        "    if 'org' in data_1.iloc[i, 4]: #проверяем на наличие метки названия компании в столбце status\n",
        "      print('\\nПредставил(-а) компанию как \"', ' '.join(data_1.iloc[i, 4].split(' ')[3:]), '\".', sep = '') #делим всю запись по пробелу и берём  \n",
        "      break #прерываем цикл после того, как нашли представление компании                          элементы,на которых всегда будет имя (до конца)\n",
        "    elif n == len(data_1.index) - 1: \n",
        "      print('\\nНе представил(-а) компанию', sep = '')\n",
        "  print('__________________________________')"
      ]
    }
  ],
  "metadata": {
    "colab": {
      "collapsed_sections": [],
      "provenance": [],
      "authorship_tag": "ABX9TyOWF5hBK5SzO0PC04GEfPcu",
      "include_colab_link": true
    },
    "kernelspec": {
      "display_name": "Python 3",
      "name": "python3"
    },
    "language_info": {
      "name": "python"
    }
  },
  "nbformat": 4,
  "nbformat_minor": 0
}